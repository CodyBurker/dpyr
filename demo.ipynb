{
 "cells": [
  {
   "cell_type": "code",
   "execution_count": 1,
   "metadata": {},
   "outputs": [],
   "source": [
    "from dpyr import DataFrame, filter, select, mutate, c, read_csv, head, arrange\n",
    "import polars as pl\n",
    "import pandas as pd"
   ]
  },
  {
   "cell_type": "code",
   "execution_count": 22,
   "metadata": {},
   "outputs": [
    {
     "data": {
      "text/html": [
       "<div>\n",
       "<style scoped>\n",
       "    .dataframe tbody tr th:only-of-type {\n",
       "        vertical-align: middle;\n",
       "    }\n",
       "\n",
       "    .dataframe tbody tr th {\n",
       "        vertical-align: top;\n",
       "    }\n",
       "\n",
       "    .dataframe thead th {\n",
       "        text-align: right;\n",
       "    }\n",
       "</style>\n",
       "<table border=\"1\" class=\"dataframe\">\n",
       "  <thead>\n",
       "    <tr style=\"text-align: right;\">\n",
       "      <th></th>\n",
       "      <th>sepal.length</th>\n",
       "      <th>sepal.width</th>\n",
       "      <th>sepal.ratio</th>\n",
       "    </tr>\n",
       "  </thead>\n",
       "  <tbody>\n",
       "    <tr>\n",
       "      <th>32</th>\n",
       "      <td>5.2</td>\n",
       "      <td>4.1</td>\n",
       "      <td>1.268293</td>\n",
       "    </tr>\n",
       "    <tr>\n",
       "      <th>22</th>\n",
       "      <td>4.6</td>\n",
       "      <td>3.6</td>\n",
       "      <td>1.277778</td>\n",
       "    </tr>\n",
       "    <tr>\n",
       "      <th>15</th>\n",
       "      <td>5.7</td>\n",
       "      <td>4.4</td>\n",
       "      <td>1.295455</td>\n",
       "    </tr>\n",
       "    <tr>\n",
       "      <th>33</th>\n",
       "      <td>5.5</td>\n",
       "      <td>4.2</td>\n",
       "      <td>1.309524</td>\n",
       "    </tr>\n",
       "    <tr>\n",
       "      <th>19</th>\n",
       "      <td>5.1</td>\n",
       "      <td>3.8</td>\n",
       "      <td>1.342105</td>\n",
       "    </tr>\n",
       "  </tbody>\n",
       "</table>\n",
       "</div>"
      ],
      "text/plain": [
       "    sepal.length  sepal.width  sepal.ratio\n",
       "32           5.2          4.1     1.268293\n",
       "22           4.6          3.6     1.277778\n",
       "15           5.7          4.4     1.295455\n",
       "33           5.5          4.2     1.309524\n",
       "19           5.1          3.8     1.342105"
      ]
     },
     "execution_count": 22,
     "metadata": {},
     "output_type": "execute_result"
    }
   ],
   "source": [
    "# Pandas DataFrame syntax\n",
    "df = pd.read_csv(\"iris.csv\")\n",
    "df = df[df[\"variety\"]  == \"Setosa\"]\n",
    "df = df[[\"sepal.length\", \"sepal.width\"]]\n",
    "df['sepal.ratio'] = df['sepal.length'] / df['sepal.width']\n",
    "df = df.sort_values(\"sepal.ratio\")\n",
    "df.head()"
   ]
  },
  {
   "cell_type": "code",
   "execution_count": 21,
   "metadata": {},
   "outputs": [
    {
     "data": {
      "text/html": [
       "<div><style>\n",
       ".dataframe > thead > tr,\n",
       ".dataframe > tbody > tr {\n",
       "  text-align: right;\n",
       "  white-space: pre-wrap;\n",
       "}\n",
       "</style>\n",
       "<small>shape: (5, 3)</small><table border=\"1\" class=\"dataframe\"><thead><tr><th>sepal.length</th><th>sepal.width</th><th>sepal.ratio</th></tr><tr><td>f64</td><td>f64</td><td>f64</td></tr></thead><tbody><tr><td>5.2</td><td>4.1</td><td>1.268293</td></tr><tr><td>4.6</td><td>3.6</td><td>1.277778</td></tr><tr><td>5.7</td><td>4.4</td><td>1.295455</td></tr><tr><td>5.5</td><td>4.2</td><td>1.309524</td></tr><tr><td>5.1</td><td>3.8</td><td>1.342105</td></tr></tbody></table></div>"
      ],
      "text/plain": [
       "shape: (5, 3)\n",
       "┌──────────────┬─────────────┬─────────────┐\n",
       "│ sepal.length ┆ sepal.width ┆ sepal.ratio │\n",
       "│ ---          ┆ ---         ┆ ---         │\n",
       "│ f64          ┆ f64         ┆ f64         │\n",
       "╞══════════════╪═════════════╪═════════════╡\n",
       "│ 5.2          ┆ 4.1         ┆ 1.268293    │\n",
       "│ 4.6          ┆ 3.6         ┆ 1.277778    │\n",
       "│ 5.7          ┆ 4.4         ┆ 1.295455    │\n",
       "│ 5.5          ┆ 4.2         ┆ 1.309524    │\n",
       "│ 5.1          ┆ 3.8         ┆ 1.342105    │\n",
       "└──────────────┴─────────────┴─────────────┘"
      ]
     },
     "execution_count": 21,
     "metadata": {},
     "output_type": "execute_result"
    }
   ],
   "source": [
    "# Polars DataFrame syntax\n",
    "pl.read_csv(\n",
    "    \"iris.csv\"\n",
    "    ).filter(\n",
    "        pl.col(\"variety\") == \"Setosa\"\n",
    "    ).select(\"sepal.length\",\"sepal.width\"\n",
    "    ).with_columns(\n",
    "        (pl.col(\"sepal.length\") / pl.col(\"sepal.width\")).alias(\"sepal.ratio\")\n",
    "    ).sort(\n",
    "        \"sepal.ratio\"\n",
    "    ).head()"
   ]
  },
  {
   "cell_type": "code",
   "execution_count": 20,
   "metadata": {},
   "outputs": [
    {
     "data": {
      "text/html": [
       "<div><style>\n",
       ".dataframe > thead > tr,\n",
       ".dataframe > tbody > tr {\n",
       "  text-align: right;\n",
       "  white-space: pre-wrap;\n",
       "}\n",
       "</style>\n",
       "<small>shape: (5, 4)</small><table border=\"1\" class=\"dataframe\"><thead><tr><th>sepal_length</th><th>sepal_width</th><th>variety</th><th>sepal_ratio</th></tr><tr><td>f64</td><td>f64</td><td>str</td><td>f64</td></tr></thead><tbody><tr><td>5.2</td><td>4.1</td><td>&quot;Setosa&quot;</td><td>1.268293</td></tr><tr><td>4.6</td><td>3.6</td><td>&quot;Setosa&quot;</td><td>1.277778</td></tr><tr><td>5.7</td><td>4.4</td><td>&quot;Setosa&quot;</td><td>1.295455</td></tr><tr><td>5.5</td><td>4.2</td><td>&quot;Setosa&quot;</td><td>1.309524</td></tr><tr><td>5.1</td><td>3.8</td><td>&quot;Setosa&quot;</td><td>1.342105</td></tr></tbody></table></div>"
      ],
      "text/plain": [
       "shape: (5, 4)\n",
       "┌──────────────┬─────────────┬─────────┬─────────────┐\n",
       "│ sepal_length ┆ sepal_width ┆ variety ┆ sepal_ratio │\n",
       "│ ---          ┆ ---         ┆ ---     ┆ ---         │\n",
       "│ f64          ┆ f64         ┆ str     ┆ f64         │\n",
       "╞══════════════╪═════════════╪═════════╪═════════════╡\n",
       "│ 5.2          ┆ 4.1         ┆ Setosa  ┆ 1.268293    │\n",
       "│ 4.6          ┆ 3.6         ┆ Setosa  ┆ 1.277778    │\n",
       "│ 5.7          ┆ 4.4         ┆ Setosa  ┆ 1.295455    │\n",
       "│ 5.5          ┆ 4.2         ┆ Setosa  ┆ 1.309524    │\n",
       "│ 5.1          ┆ 3.8         ┆ Setosa  ┆ 1.342105    │\n",
       "└──────────────┴─────────────┴─────────┴─────────────┘"
      ]
     },
     "execution_count": 20,
     "metadata": {},
     "output_type": "execute_result"
    }
   ],
   "source": [
    "read_csv(\"iris.csv\") \\\n",
    "    | filter(c.variety == \"Setosa\") \\\n",
    "    | select(c.sepal_length, c.sepal_width, c.variety) \\\n",
    "    | mutate(sepal_ratio=c.sepal_length / c.sepal_width) \\\n",
    "    | arrange(c.sepal_ratio) \\\n",
    "    | head()"
   ]
  }
 ],
 "metadata": {
  "kernelspec": {
   "display_name": ".venv",
   "language": "python",
   "name": "python3"
  },
  "language_info": {
   "codemirror_mode": {
    "name": "ipython",
    "version": 3
   },
   "file_extension": ".py",
   "mimetype": "text/x-python",
   "name": "python",
   "nbconvert_exporter": "python",
   "pygments_lexer": "ipython3",
   "version": "3.10.11"
  }
 },
 "nbformat": 4,
 "nbformat_minor": 2
}
