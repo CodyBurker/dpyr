{
 "cells": [
  {
   "cell_type": "code",
   "execution_count": 1,
   "metadata": {},
   "outputs": [],
   "source": [
    "from dpyr import DataFrame, filter, select, mutate, c, read_csv, head, arrange, wrapperCol\n",
    "import polars as pl\n",
    "import pandas as pd"
   ]
  },
  {
   "cell_type": "code",
   "execution_count": 16,
   "metadata": {},
   "outputs": [
    {
     "data": {
      "text/html": [
       "<div>\n",
       "<style scoped>\n",
       "    .dataframe tbody tr th:only-of-type {\n",
       "        vertical-align: middle;\n",
       "    }\n",
       "\n",
       "    .dataframe tbody tr th {\n",
       "        vertical-align: top;\n",
       "    }\n",
       "\n",
       "    .dataframe thead th {\n",
       "        text-align: right;\n",
       "    }\n",
       "</style>\n",
       "<table border=\"1\" class=\"dataframe\">\n",
       "  <thead>\n",
       "    <tr style=\"text-align: right;\">\n",
       "      <th></th>\n",
       "      <th>sepal.length</th>\n",
       "      <th>sepal.width</th>\n",
       "      <th>sepal.ratio</th>\n",
       "    </tr>\n",
       "  </thead>\n",
       "  <tbody>\n",
       "    <tr>\n",
       "      <th>41</th>\n",
       "      <td>4.5</td>\n",
       "      <td>2.3</td>\n",
       "      <td>1.956522</td>\n",
       "    </tr>\n",
       "    <tr>\n",
       "      <th>25</th>\n",
       "      <td>5.0</td>\n",
       "      <td>3.0</td>\n",
       "      <td>1.666667</td>\n",
       "    </tr>\n",
       "    <tr>\n",
       "      <th>1</th>\n",
       "      <td>4.9</td>\n",
       "      <td>3.0</td>\n",
       "      <td>1.633333</td>\n",
       "    </tr>\n",
       "    <tr>\n",
       "      <th>45</th>\n",
       "      <td>4.8</td>\n",
       "      <td>3.0</td>\n",
       "      <td>1.600000</td>\n",
       "    </tr>\n",
       "    <tr>\n",
       "      <th>12</th>\n",
       "      <td>4.8</td>\n",
       "      <td>3.0</td>\n",
       "      <td>1.600000</td>\n",
       "    </tr>\n",
       "  </tbody>\n",
       "</table>\n",
       "</div>"
      ],
      "text/plain": [
       "    sepal.length  sepal.width  sepal.ratio\n",
       "41           4.5          2.3     1.956522\n",
       "25           5.0          3.0     1.666667\n",
       "1            4.9          3.0     1.633333\n",
       "45           4.8          3.0     1.600000\n",
       "12           4.8          3.0     1.600000"
      ]
     },
     "execution_count": 16,
     "metadata": {},
     "output_type": "execute_result"
    }
   ],
   "source": [
    "# Pandas DataFrame syntax\n",
    "df = pd.read_csv(\"iris.csv\")\n",
    "df = df[df[\"variety\"]  == \"Setosa\"]\n",
    "df = df[[\"sepal.length\", \"sepal.width\"]]\n",
    "df['sepal.ratio'] = df['sepal.length'] / df['sepal.width']\n",
    "df = df.sort_values(\"sepal.ratio\", ascending=False)\n",
    "df.head()"
   ]
  },
  {
   "cell_type": "code",
   "execution_count": 17,
   "metadata": {},
   "outputs": [
    {
     "data": {
      "text/html": [
       "<div><style>\n",
       ".dataframe > thead > tr,\n",
       ".dataframe > tbody > tr {\n",
       "  text-align: right;\n",
       "  white-space: pre-wrap;\n",
       "}\n",
       "</style>\n",
       "<small>shape: (5, 3)</small><table border=\"1\" class=\"dataframe\"><thead><tr><th>sepal.length</th><th>sepal.width</th><th>sepal.ratio</th></tr><tr><td>f64</td><td>f64</td><td>f64</td></tr></thead><tbody><tr><td>4.5</td><td>2.3</td><td>1.956522</td></tr><tr><td>5.0</td><td>3.0</td><td>1.666667</td></tr><tr><td>4.9</td><td>3.0</td><td>1.633333</td></tr><tr><td>4.8</td><td>3.0</td><td>1.6</td></tr><tr><td>4.8</td><td>3.0</td><td>1.6</td></tr></tbody></table></div>"
      ],
      "text/plain": [
       "shape: (5, 3)\n",
       "┌──────────────┬─────────────┬─────────────┐\n",
       "│ sepal.length ┆ sepal.width ┆ sepal.ratio │\n",
       "│ ---          ┆ ---         ┆ ---         │\n",
       "│ f64          ┆ f64         ┆ f64         │\n",
       "╞══════════════╪═════════════╪═════════════╡\n",
       "│ 4.5          ┆ 2.3         ┆ 1.956522    │\n",
       "│ 5.0          ┆ 3.0         ┆ 1.666667    │\n",
       "│ 4.9          ┆ 3.0         ┆ 1.633333    │\n",
       "│ 4.8          ┆ 3.0         ┆ 1.6         │\n",
       "│ 4.8          ┆ 3.0         ┆ 1.6         │\n",
       "└──────────────┴─────────────┴─────────────┘"
      ]
     },
     "execution_count": 17,
     "metadata": {},
     "output_type": "execute_result"
    }
   ],
   "source": [
    "# Polars DataFrame syntax\n",
    "pl.read_csv(\n",
    "    \"iris.csv\"\n",
    "    ).filter(\n",
    "        pl.col(\"variety\") == \"Setosa\"\n",
    "    ).select(\"sepal.length\",\"sepal.width\"\n",
    "    ).with_columns(\n",
    "        (pl.col(\"sepal.length\") / pl.col(\"sepal.width\")).alias(\"sepal.ratio\")\n",
    "    ).sort(\n",
    "        \"sepal.ratio\", descending=True\n",
    "    ).head()"
   ]
  },
  {
   "cell_type": "code",
   "execution_count": 18,
   "metadata": {},
   "outputs": [
    {
     "data": {
      "text/html": [
       "<div><style>\n",
       ".dataframe > thead > tr,\n",
       ".dataframe > tbody > tr {\n",
       "  text-align: right;\n",
       "  white-space: pre-wrap;\n",
       "}\n",
       "</style>\n",
       "<small>shape: (5, 4)</small><table border=\"1\" class=\"dataframe\"><thead><tr><th>sepal_length</th><th>sepal_width</th><th>variety</th><th>sepal_ratio</th></tr><tr><td>f64</td><td>f64</td><td>str</td><td>f64</td></tr></thead><tbody><tr><td>4.5</td><td>2.3</td><td>&quot;Setosa&quot;</td><td>1.956522</td></tr><tr><td>5.0</td><td>3.0</td><td>&quot;Setosa&quot;</td><td>1.666667</td></tr><tr><td>4.9</td><td>3.0</td><td>&quot;Setosa&quot;</td><td>1.633333</td></tr><tr><td>4.8</td><td>3.0</td><td>&quot;Setosa&quot;</td><td>1.6</td></tr><tr><td>4.8</td><td>3.0</td><td>&quot;Setosa&quot;</td><td>1.6</td></tr></tbody></table></div>"
      ],
      "text/plain": [
       "shape: (5, 4)\n",
       "┌──────────────┬─────────────┬─────────┬─────────────┐\n",
       "│ sepal_length ┆ sepal_width ┆ variety ┆ sepal_ratio │\n",
       "│ ---          ┆ ---         ┆ ---     ┆ ---         │\n",
       "│ f64          ┆ f64         ┆ str     ┆ f64         │\n",
       "╞══════════════╪═════════════╪═════════╪═════════════╡\n",
       "│ 4.5          ┆ 2.3         ┆ Setosa  ┆ 1.956522    │\n",
       "│ 5.0          ┆ 3.0         ┆ Setosa  ┆ 1.666667    │\n",
       "│ 4.9          ┆ 3.0         ┆ Setosa  ┆ 1.633333    │\n",
       "│ 4.8          ┆ 3.0         ┆ Setosa  ┆ 1.6         │\n",
       "│ 4.8          ┆ 3.0         ┆ Setosa  ┆ 1.6         │\n",
       "└──────────────┴─────────────┴─────────┴─────────────┘"
      ]
     },
     "execution_count": 18,
     "metadata": {},
     "output_type": "execute_result"
    }
   ],
   "source": [
    "read_csv(\"iris.csv\") \\\n",
    "    | filter(c.variety == \"Setosa\") \\\n",
    "    | select(c.sepal_length, c.sepal_width, c.variety) \\\n",
    "    | mutate(sepal_ratio=c.sepal_length / c.sepal_width) \\\n",
    "    | arrange(-c.sepal_ratio) \\\n",
    "    | head()"
   ]
  }
 ],
 "metadata": {
  "kernelspec": {
   "display_name": ".venv",
   "language": "python",
   "name": "python3"
  },
  "language_info": {
   "codemirror_mode": {
    "name": "ipython",
    "version": 3
   },
   "file_extension": ".py",
   "mimetype": "text/x-python",
   "name": "python",
   "nbconvert_exporter": "python",
   "pygments_lexer": "ipython3",
   "version": "3.10.11"
  }
 },
 "nbformat": 4,
 "nbformat_minor": 2
}
